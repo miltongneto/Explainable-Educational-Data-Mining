{
 "cells": [
  {
   "cell_type": "markdown",
   "metadata": {},
   "source": [
    "# Exploratory Data Analysis - Gestores"
   ]
  },
  {
   "cell_type": "code",
   "execution_count": 1,
   "metadata": {},
   "outputs": [],
   "source": [
    "import pandas as pd\n",
    "import os\n",
    "import matplotlib.pyplot as plt\n",
    "import seaborn as sns\n",
    "import numpy as np\n",
    "from unidecode import unidecode\n",
    "\n",
    "pd.set_option('display.max_columns', None)"
   ]
  },
  {
   "cell_type": "code",
   "execution_count": 2,
   "metadata": {},
   "outputs": [],
   "source": [
    "PATH = '../data/raw/'"
   ]
  },
  {
   "cell_type": "code",
   "execution_count": 3,
   "metadata": {},
   "outputs": [],
   "source": [
    "def replace_years_to_boolean(df, cols=['2014', '2015', '2016', '2017', '2018', '2019']):\n",
    "    df.loc[:, cols] = df.loc[:, cols].replace({'NAO': False, 'SIM': True})"
   ]
  },
  {
   "cell_type": "code",
   "execution_count": 4,
   "metadata": {},
   "outputs": [],
   "source": [
    "def drop_invalid_manager(df, cols=['2014', '2015', '2016', '2017', '2018']):\n",
    "    df = df.loc[df[['2014', '2015', '2016', '2017', '2018']].any(axis=1)]\n",
    "    df.reset_index(drop=True, inplace=True)\n",
    "    return df"
   ]
  },
  {
   "cell_type": "code",
   "execution_count": 5,
   "metadata": {},
   "outputs": [],
   "source": [
    "def qtt_manager_changes(df, attribute):\n",
    "    result = None\n",
    "    if type(attribute) == list:\n",
    "        result = df.groupby(['CD_ESCOLA'])[attribute].sum().sum(axis=1)\n",
    "    elif type(attribute) == str:\n",
    "        result = df.groupby(['CD_ESCOLA'])[attribute].sum()\n",
    "    return result    "
   ]
  },
  {
   "cell_type": "markdown",
   "metadata": {},
   "source": [
    "## Diretores"
   ]
  },
  {
   "cell_type": "code",
   "execution_count": 6,
   "metadata": {},
   "outputs": [
    {
     "name": "stdout",
     "output_type": "stream",
     "text": [
      "(23352, 16)\n"
     ]
    },
    {
     "data": {
      "text/html": [
       "<div>\n",
       "<style scoped>\n",
       "    .dataframe tbody tr th:only-of-type {\n",
       "        vertical-align: middle;\n",
       "    }\n",
       "\n",
       "    .dataframe tbody tr th {\n",
       "        vertical-align: top;\n",
       "    }\n",
       "\n",
       "    .dataframe thead th {\n",
       "        text-align: right;\n",
       "    }\n",
       "</style>\n",
       "<table border=\"1\" class=\"dataframe\">\n",
       "  <thead>\n",
       "    <tr style=\"text-align: right;\">\n",
       "      <th></th>\n",
       "      <th>CD_ESCOLA</th>\n",
       "      <th>CD_SITUACAO</th>\n",
       "      <th>DIRETORIA</th>\n",
       "      <th>CD_UNIDADE</th>\n",
       "      <th>NOME_UNID_ADM</th>\n",
       "      <th>NM_PESSOA</th>\n",
       "      <th>NR_CPF</th>\n",
       "      <th>NR_DI</th>\n",
       "      <th>CD_CARGO</th>\n",
       "      <th>2014</th>\n",
       "      <th>2015</th>\n",
       "      <th>2016</th>\n",
       "      <th>2017</th>\n",
       "      <th>2018</th>\n",
       "      <th>2019</th>\n",
       "      <th>id_interno</th>\n",
       "    </tr>\n",
       "  </thead>\n",
       "  <tbody>\n",
       "    <tr>\n",
       "      <th>0</th>\n",
       "      <td>902724</td>\n",
       "      <td>1</td>\n",
       "      <td>LESTE 3</td>\n",
       "      <td>67600</td>\n",
       "      <td>EE       FERNANDO MAURO PIRES DA ROCHA - DEPUT...</td>\n",
       "      <td>288268</td>\n",
       "      <td>288268</td>\n",
       "      <td>1</td>\n",
       "      <td>6200</td>\n",
       "      <td>NAO</td>\n",
       "      <td>NAO</td>\n",
       "      <td>NAO</td>\n",
       "      <td>SIM</td>\n",
       "      <td>SIM</td>\n",
       "      <td>NAO</td>\n",
       "      <td>288268</td>\n",
       "    </tr>\n",
       "    <tr>\n",
       "      <th>1</th>\n",
       "      <td>924933</td>\n",
       "      <td>1</td>\n",
       "      <td>CAMPINAS OESTE</td>\n",
       "      <td>25358</td>\n",
       "      <td>EE       GLORIA APARECIDA ROSA VIANA - PROFA. ...</td>\n",
       "      <td>347888</td>\n",
       "      <td>347888</td>\n",
       "      <td>1</td>\n",
       "      <td>6200</td>\n",
       "      <td>NAO</td>\n",
       "      <td>NAO</td>\n",
       "      <td>NAO</td>\n",
       "      <td>NAO</td>\n",
       "      <td>NAO</td>\n",
       "      <td>SIM</td>\n",
       "      <td>347888</td>\n",
       "    </tr>\n",
       "    <tr>\n",
       "      <th>2</th>\n",
       "      <td>13006</td>\n",
       "      <td>1</td>\n",
       "      <td>GUARATINGUETA</td>\n",
       "      <td>41785</td>\n",
       "      <td>EE       LEONOR GUIMARAES - PROFA.            ...</td>\n",
       "      <td>385732</td>\n",
       "      <td>385732</td>\n",
       "      <td>1</td>\n",
       "      <td>6200</td>\n",
       "      <td>NAO</td>\n",
       "      <td>SIM</td>\n",
       "      <td>SIM</td>\n",
       "      <td>SIM</td>\n",
       "      <td>SIM</td>\n",
       "      <td>NAO</td>\n",
       "      <td>385732</td>\n",
       "    </tr>\n",
       "    <tr>\n",
       "      <th>3</th>\n",
       "      <td>42250</td>\n",
       "      <td>1</td>\n",
       "      <td>PINDAMONHANGABA</td>\n",
       "      <td>57314</td>\n",
       "      <td>EE       JOSE PINTO MARCONDES PESTANA - PROF. ...</td>\n",
       "      <td>385733</td>\n",
       "      <td>385733</td>\n",
       "      <td>1</td>\n",
       "      <td>6200</td>\n",
       "      <td>SIM</td>\n",
       "      <td>SIM</td>\n",
       "      <td>NAO</td>\n",
       "      <td>NAO</td>\n",
       "      <td>NAO</td>\n",
       "      <td>NAO</td>\n",
       "      <td>385733</td>\n",
       "    </tr>\n",
       "    <tr>\n",
       "      <th>4</th>\n",
       "      <td>10194</td>\n",
       "      <td>1</td>\n",
       "      <td>TABOAO DA SERRA</td>\n",
       "      <td>41399</td>\n",
       "      <td>EE       ALIPIO DE OLIVEIRA E SILVA - PROF.   ...</td>\n",
       "      <td>385734</td>\n",
       "      <td>385734</td>\n",
       "      <td>1</td>\n",
       "      <td>6200</td>\n",
       "      <td>SIM</td>\n",
       "      <td>SIM</td>\n",
       "      <td>NAO</td>\n",
       "      <td>NAO</td>\n",
       "      <td>NAO</td>\n",
       "      <td>NAO</td>\n",
       "      <td>385734</td>\n",
       "    </tr>\n",
       "  </tbody>\n",
       "</table>\n",
       "</div>"
      ],
      "text/plain": [
       "   CD_ESCOLA  CD_SITUACAO        DIRETORIA  CD_UNIDADE  \\\n",
       "0     902724            1          LESTE 3       67600   \n",
       "1     924933            1   CAMPINAS OESTE       25358   \n",
       "2      13006            1    GUARATINGUETA       41785   \n",
       "3      42250            1  PINDAMONHANGABA       57314   \n",
       "4      10194            1  TABOAO DA SERRA       41399   \n",
       "\n",
       "                                       NOME_UNID_ADM  NM_PESSOA  NR_CPF  \\\n",
       "0  EE       FERNANDO MAURO PIRES DA ROCHA - DEPUT...     288268  288268   \n",
       "1  EE       GLORIA APARECIDA ROSA VIANA - PROFA. ...     347888  347888   \n",
       "2  EE       LEONOR GUIMARAES - PROFA.            ...     385732  385732   \n",
       "3  EE       JOSE PINTO MARCONDES PESTANA - PROF. ...     385733  385733   \n",
       "4  EE       ALIPIO DE OLIVEIRA E SILVA - PROF.   ...     385734  385734   \n",
       "\n",
       "   NR_DI  CD_CARGO 2014 2015 2016 2017 2018 2019  id_interno  \n",
       "0      1      6200  NAO  NAO  NAO  SIM  SIM  NAO      288268  \n",
       "1      1      6200  NAO  NAO  NAO  NAO  NAO  SIM      347888  \n",
       "2      1      6200  NAO  SIM  SIM  SIM  SIM  NAO      385732  \n",
       "3      1      6200  SIM  SIM  NAO  NAO  NAO  NAO      385733  \n",
       "4      1      6200  SIM  SIM  NAO  NAO  NAO  NAO      385734  "
      ]
     },
     "execution_count": 6,
     "metadata": {},
     "output_type": "execute_result"
    }
   ],
   "source": [
    "df_diretores = pd.read_csv(os.path.join(PATH, 'DIRETORES DE ESCOLA.csv'), sep=';')\n",
    "print(df_diretores.shape)\n",
    "df_diretores.head()"
   ]
  },
  {
   "cell_type": "code",
   "execution_count": 7,
   "metadata": {},
   "outputs": [],
   "source": [
    "replace_years_to_boolean(df_diretores)"
   ]
  },
  {
   "cell_type": "code",
   "execution_count": 8,
   "metadata": {},
   "outputs": [],
   "source": [
    "df_diretores.drop('2019', axis=1, inplace=True)"
   ]
  },
  {
   "cell_type": "code",
   "execution_count": 9,
   "metadata": {},
   "outputs": [],
   "source": [
    "df_diretores = drop_invalid_manager(df_diretores)"
   ]
  },
  {
   "cell_type": "markdown",
   "metadata": {},
   "source": [
    "### Diretores diferentes por escola"
   ]
  },
  {
   "cell_type": "code",
   "execution_count": 10,
   "metadata": {},
   "outputs": [
    {
     "data": {
      "text/plain": [
       "34253     11\n",
       "2800      11\n",
       "13754     11\n",
       "6713      11\n",
       "915555    11\n",
       "          ..\n",
       "909488     1\n",
       "909002     1\n",
       "902032     1\n",
       "1661       1\n",
       "3244       1\n",
       "Name: CD_ESCOLA, Length: 4988, dtype: int64"
      ]
     },
     "execution_count": 10,
     "metadata": {},
     "output_type": "execute_result"
    }
   ],
   "source": [
    "df_diretores['CD_ESCOLA'].value_counts()"
   ]
  },
  {
   "cell_type": "markdown",
   "metadata": {},
   "source": [
    "### Diretores diferentes por escola em 2018"
   ]
  },
  {
   "cell_type": "code",
   "execution_count": 11,
   "metadata": {},
   "outputs": [
    {
     "data": {
      "text/plain": [
       "<matplotlib.axes._subplots.AxesSubplot at 0x7f5c402fe110>"
      ]
     },
     "execution_count": 11,
     "metadata": {},
     "output_type": "execute_result"
    },
    {
     "data": {
      "image/png": "[encoded data removed]",
      "text/plain": [
       "<Figure size 432x288 with 1 Axes>"
      ]
     },
     "metadata": {
      "needs_background": "light"
     },
     "output_type": "display_data"
    }
   ],
   "source": [
    "qtd_diretores_2018 = qtt_manager_changes(df_diretores, '2018')\n",
    "qtd_diretores_2018.name = 'DIRETORES_QTD_2018'\n",
    "qtd_diretores_2018.hist(bins=20)"
   ]
  },
  {
   "cell_type": "markdown",
   "metadata": {},
   "source": [
    "### Troca de diretores por escola"
   ]
  },
  {
   "cell_type": "code",
   "execution_count": 12,
   "metadata": {},
   "outputs": [
    {
     "data": {
      "text/plain": [
       "<matplotlib.axes._subplots.AxesSubplot at 0x7f5c3fa737d0>"
      ]
     },
     "execution_count": 12,
     "metadata": {},
     "output_type": "execute_result"
    },
    {
     "data": {
      "image/png": "[encoded data removed]",
      "text/plain": [
       "<Figure size 432x288 with 1 Axes>"
      ]
     },
     "metadata": {
      "needs_background": "light"
     },
     "output_type": "display_data"
    }
   ],
   "source": [
    "qtd_diretores_5_anos = qtt_manager_changes(df_diretores, ['2014', '2015', '2016', '2017', '2018'])\n",
    "qtd_diretores_5_anos.name = 'DIRETORES_QTD_5_ANOS'\n",
    "qtd_diretores_5_anos.hist(bins=20)"
   ]
  },
  {
   "cell_type": "markdown",
   "metadata": {},
   "source": [
    "## Coordenadores"
   ]
  },
  {
   "cell_type": "code",
   "execution_count": 13,
   "metadata": {},
   "outputs": [
    {
     "name": "stdout",
     "output_type": "stream",
     "text": [
      "(24381, 17)\n"
     ]
    },
    {
     "data": {
      "text/html": [
       "<div>\n",
       "<style scoped>\n",
       "    .dataframe tbody tr th:only-of-type {\n",
       "        vertical-align: middle;\n",
       "    }\n",
       "\n",
       "    .dataframe tbody tr th {\n",
       "        vertical-align: top;\n",
       "    }\n",
       "\n",
       "    .dataframe thead th {\n",
       "        text-align: right;\n",
       "    }\n",
       "</style>\n",
       "<table border=\"1\" class=\"dataframe\">\n",
       "  <thead>\n",
       "    <tr style=\"text-align: right;\">\n",
       "      <th></th>\n",
       "      <th>CD_ESCOLA</th>\n",
       "      <th>CD_SITUACAO</th>\n",
       "      <th>DIRETORIA</th>\n",
       "      <th>CD_UNIDADE</th>\n",
       "      <th>NOME_UNID_ADM</th>\n",
       "      <th>NM_PESSOA</th>\n",
       "      <th>NR_CPF</th>\n",
       "      <th>NR_DI</th>\n",
       "      <th>CD_CARGO</th>\n",
       "      <th>2014</th>\n",
       "      <th>2015</th>\n",
       "      <th>2016</th>\n",
       "      <th>2017</th>\n",
       "      <th>2018</th>\n",
       "      <th>2019</th>\n",
       "      <th>id_interno</th>\n",
       "      <th>Unnamed: 16</th>\n",
       "    </tr>\n",
       "  </thead>\n",
       "  <tbody>\n",
       "    <tr>\n",
       "      <th>0</th>\n",
       "      <td>40629</td>\n",
       "      <td>1</td>\n",
       "      <td>CARAPICUIBA</td>\n",
       "      <td>55204</td>\n",
       "      <td>EE       MARIA MARQUES DE NORONHA - PROFA.    ...</td>\n",
       "      <td>229814</td>\n",
       "      <td>229814</td>\n",
       "      <td>1</td>\n",
       "      <td>6409</td>\n",
       "      <td>NAO</td>\n",
       "      <td>NAO</td>\n",
       "      <td>SIM</td>\n",
       "      <td>NAO</td>\n",
       "      <td>NAO</td>\n",
       "      <td>NAO</td>\n",
       "      <td>229814</td>\n",
       "      <td>NaN</td>\n",
       "    </tr>\n",
       "    <tr>\n",
       "      <th>1</th>\n",
       "      <td>8990</td>\n",
       "      <td>1</td>\n",
       "      <td>SAO BERNARDO DO CAMPO</td>\n",
       "      <td>41173</td>\n",
       "      <td>EE       ANTONIO CAPUTO                       ...</td>\n",
       "      <td>402152</td>\n",
       "      <td>402152</td>\n",
       "      <td>1</td>\n",
       "      <td>6409</td>\n",
       "      <td>SIM</td>\n",
       "      <td>SIM</td>\n",
       "      <td>NAO</td>\n",
       "      <td>NAO</td>\n",
       "      <td>NAO</td>\n",
       "      <td>NAO</td>\n",
       "      <td>402152</td>\n",
       "      <td>NaN</td>\n",
       "    </tr>\n",
       "    <tr>\n",
       "      <th>2</th>\n",
       "      <td>924945</td>\n",
       "      <td>1</td>\n",
       "      <td>CAMPINAS OESTE</td>\n",
       "      <td>25359</td>\n",
       "      <td>EE       RESIDENCIAL SAO JOSE                 ...</td>\n",
       "      <td>286740</td>\n",
       "      <td>286740</td>\n",
       "      <td>1</td>\n",
       "      <td>6409</td>\n",
       "      <td>SIM</td>\n",
       "      <td>SIM</td>\n",
       "      <td>SIM</td>\n",
       "      <td>SIM</td>\n",
       "      <td>SIM</td>\n",
       "      <td>SIM</td>\n",
       "      <td>286740</td>\n",
       "      <td>NaN</td>\n",
       "    </tr>\n",
       "    <tr>\n",
       "      <th>3</th>\n",
       "      <td>921518</td>\n",
       "      <td>1</td>\n",
       "      <td>SUZANO</td>\n",
       "      <td>20051</td>\n",
       "      <td>EE       JOSE CAMILO DE ANDRADE               ...</td>\n",
       "      <td>402153</td>\n",
       "      <td>402153</td>\n",
       "      <td>1</td>\n",
       "      <td>6409</td>\n",
       "      <td>SIM</td>\n",
       "      <td>SIM</td>\n",
       "      <td>NAO</td>\n",
       "      <td>NAO</td>\n",
       "      <td>NAO</td>\n",
       "      <td>NAO</td>\n",
       "      <td>402153</td>\n",
       "      <td>NaN</td>\n",
       "    </tr>\n",
       "    <tr>\n",
       "      <th>4</th>\n",
       "      <td>921497</td>\n",
       "      <td>1</td>\n",
       "      <td>ITAQUAQUECETUBA</td>\n",
       "      <td>20049</td>\n",
       "      <td>EE       DULCE MARIA SAMPAIO - PROFA.         ...</td>\n",
       "      <td>298344</td>\n",
       "      <td>298344</td>\n",
       "      <td>1</td>\n",
       "      <td>6409</td>\n",
       "      <td>SIM</td>\n",
       "      <td>NAO</td>\n",
       "      <td>NAO</td>\n",
       "      <td>NAO</td>\n",
       "      <td>NAO</td>\n",
       "      <td>NAO</td>\n",
       "      <td>298344</td>\n",
       "      <td>NaN</td>\n",
       "    </tr>\n",
       "  </tbody>\n",
       "</table>\n",
       "</div>"
      ],
      "text/plain": [
       "   CD_ESCOLA  CD_SITUACAO              DIRETORIA  CD_UNIDADE  \\\n",
       "0      40629            1            CARAPICUIBA       55204   \n",
       "1       8990            1  SAO BERNARDO DO CAMPO       41173   \n",
       "2     924945            1         CAMPINAS OESTE       25359   \n",
       "3     921518            1                 SUZANO       20051   \n",
       "4     921497            1        ITAQUAQUECETUBA       20049   \n",
       "\n",
       "                                       NOME_UNID_ADM NM_PESSOA  NR_CPF  NR_DI  \\\n",
       "0  EE       MARIA MARQUES DE NORONHA - PROFA.    ...    229814  229814      1   \n",
       "1  EE       ANTONIO CAPUTO                       ...    402152  402152      1   \n",
       "2  EE       RESIDENCIAL SAO JOSE                 ...    286740  286740      1   \n",
       "3  EE       JOSE CAMILO DE ANDRADE               ...    402153  402153      1   \n",
       "4  EE       DULCE MARIA SAMPAIO - PROFA.         ...    298344  298344      1   \n",
       "\n",
       "   CD_CARGO 2014 2015 2016 2017 2018 2019 id_interno  Unnamed: 16  \n",
       "0      6409  NAO  NAO  SIM  NAO  NAO  NAO     229814          NaN  \n",
       "1      6409  SIM  SIM  NAO  NAO  NAO  NAO     402152          NaN  \n",
       "2      6409  SIM  SIM  SIM  SIM  SIM  SIM     286740          NaN  \n",
       "3      6409  SIM  SIM  NAO  NAO  NAO  NAO     402153          NaN  \n",
       "4      6409  SIM  NAO  NAO  NAO  NAO  NAO     298344          NaN  "
      ]
     },
     "execution_count": 13,
     "metadata": {},
     "output_type": "execute_result"
    }
   ],
   "source": [
    "df_coordenador = pd.read_csv(os.path.join(PATH, 'PROFESSOR_COORDENADOR.csv'), sep=';')\n",
    "print(df_coordenador.shape)\n",
    "df_coordenador.head()"
   ]
  },
  {
   "cell_type": "code",
   "execution_count": 14,
   "metadata": {},
   "outputs": [],
   "source": [
    "df_coordenador.drop('Unnamed: 16', axis=1, inplace=True)"
   ]
  },
  {
   "cell_type": "code",
   "execution_count": 15,
   "metadata": {},
   "outputs": [],
   "source": [
    "replace_years_to_boolean(df_coordenador)"
   ]
  },
  {
   "cell_type": "code",
   "execution_count": 16,
   "metadata": {},
   "outputs": [],
   "source": [
    "df_coordenador.drop('2019', axis=1, inplace=True)"
   ]
  },
  {
   "cell_type": "code",
   "execution_count": 17,
   "metadata": {},
   "outputs": [],
   "source": [
    "df_coordenador = drop_invalid_manager(df_coordenador)"
   ]
  },
  {
   "cell_type": "code",
   "execution_count": 18,
   "metadata": {},
   "outputs": [
    {
     "data": {
      "text/plain": [
       "<matplotlib.axes._subplots.AxesSubplot at 0x7f5c3f5f3390>"
      ]
     },
     "execution_count": 18,
     "metadata": {},
     "output_type": "execute_result"
    },
    {
     "data": {
      "image/png": "[encoded data removed]",
      "text/plain": [
       "<Figure size 432x288 with 1 Axes>"
      ]
     },
     "metadata": {
      "needs_background": "light"
     },
     "output_type": "display_data"
    }
   ],
   "source": [
    "qtd_coordenadores_2018 = qtt_manager_changes(df_coordenador, '2018')\n",
    "qtd_coordenadores_2018.name = 'COORDENADORES_QTD_2018'\n",
    "qtd_coordenadores_2018.hist(bins=20)"
   ]
  },
  {
   "cell_type": "code",
   "execution_count": 19,
   "metadata": {},
   "outputs": [
    {
     "data": {
      "text/plain": [
       "<matplotlib.axes._subplots.AxesSubplot at 0x7f5c3f57e190>"
      ]
     },
     "execution_count": 19,
     "metadata": {},
     "output_type": "execute_result"
    },
    {
     "data": {
      "image/png": "[encoded data removed]",
      "text/plain": [
       "<Figure size 432x288 with 1 Axes>"
      ]
     },
     "metadata": {
      "needs_background": "light"
     },
     "output_type": "display_data"
    }
   ],
   "source": [
    "qtd_coordenadores_5_anos = qtt_manager_changes(df_coordenador, ['2014', '2015', '2016', '2017', '2018'])\n",
    "qtd_coordenadores_5_anos.name = 'COORDENADORES_QTD_5_ANOS'\n",
    "qtd_coordenadores_5_anos.hist(bins=20)"
   ]
  },
  {
   "cell_type": "markdown",
   "metadata": {},
   "source": [
    "### Juntar caracteristicas do historico"
   ]
  },
  {
   "cell_type": "code",
   "execution_count": 20,
   "metadata": {},
   "outputs": [
    {
     "data": {
      "text/html": [
       "<div>\n",
       "<style scoped>\n",
       "    .dataframe tbody tr th:only-of-type {\n",
       "        vertical-align: middle;\n",
       "    }\n",
       "\n",
       "    .dataframe tbody tr th {\n",
       "        vertical-align: top;\n",
       "    }\n",
       "\n",
       "    .dataframe thead th {\n",
       "        text-align: right;\n",
       "    }\n",
       "</style>\n",
       "<table border=\"1\" class=\"dataframe\">\n",
       "  <thead>\n",
       "    <tr style=\"text-align: right;\">\n",
       "      <th></th>\n",
       "      <th>CD_ESCOLA</th>\n",
       "      <th>DIRETORES_QTD_2018</th>\n",
       "      <th>COORDENADORES_QTD_2018</th>\n",
       "      <th>DIRETORES_QTD_5_ANOS</th>\n",
       "      <th>COORDENADORES_QTD_5_ANOS</th>\n",
       "    </tr>\n",
       "  </thead>\n",
       "  <tbody>\n",
       "    <tr>\n",
       "      <th>0</th>\n",
       "      <td>12</td>\n",
       "      <td>1.0</td>\n",
       "      <td>5.0</td>\n",
       "      <td>5.0</td>\n",
       "      <td>17.0</td>\n",
       "    </tr>\n",
       "    <tr>\n",
       "      <th>1</th>\n",
       "      <td>24</td>\n",
       "      <td>3.0</td>\n",
       "      <td>3.0</td>\n",
       "      <td>11.0</td>\n",
       "      <td>17.0</td>\n",
       "    </tr>\n",
       "    <tr>\n",
       "      <th>2</th>\n",
       "      <td>36</td>\n",
       "      <td>4.0</td>\n",
       "      <td>3.0</td>\n",
       "      <td>13.0</td>\n",
       "      <td>13.0</td>\n",
       "    </tr>\n",
       "    <tr>\n",
       "      <th>3</th>\n",
       "      <td>48</td>\n",
       "      <td>2.0</td>\n",
       "      <td>2.0</td>\n",
       "      <td>8.0</td>\n",
       "      <td>10.0</td>\n",
       "    </tr>\n",
       "    <tr>\n",
       "      <th>4</th>\n",
       "      <td>59</td>\n",
       "      <td>4.0</td>\n",
       "      <td>1.0</td>\n",
       "      <td>12.0</td>\n",
       "      <td>6.0</td>\n",
       "    </tr>\n",
       "  </tbody>\n",
       "</table>\n",
       "</div>"
      ],
      "text/plain": [
       "   CD_ESCOLA  DIRETORES_QTD_2018  COORDENADORES_QTD_2018  \\\n",
       "0         12                 1.0                     5.0   \n",
       "1         24                 3.0                     3.0   \n",
       "2         36                 4.0                     3.0   \n",
       "3         48                 2.0                     2.0   \n",
       "4         59                 4.0                     1.0   \n",
       "\n",
       "   DIRETORES_QTD_5_ANOS  COORDENADORES_QTD_5_ANOS  \n",
       "0                   5.0                      17.0  \n",
       "1                  11.0                      17.0  \n",
       "2                  13.0                      13.0  \n",
       "3                   8.0                      10.0  \n",
       "4                  12.0                       6.0  "
      ]
     },
     "execution_count": 20,
     "metadata": {},
     "output_type": "execute_result"
    }
   ],
   "source": [
    "features_historico = pd.concat([\n",
    "    qtd_diretores_2018, qtd_coordenadores_2018, qtd_diretores_5_anos, qtd_coordenadores_5_anos\n",
    "], axis=1)\n",
    "features_historico.reset_index(inplace=True)\n",
    "features_historico.head()"
   ]
  },
  {
   "cell_type": "markdown",
   "metadata": {},
   "source": [
    "### Preencher dados faltantes\n",
    "A falta de informacao para os atributos criados (QTD_5_ANOS e QTD_2018) indica que nao houve mudanca de gestor. O valor utilizado para o preenchimento sera 1, representando um unico diretor."
   ]
  },
  {
   "cell_type": "code",
   "execution_count": 21,
   "metadata": {},
   "outputs": [
    {
     "data": {
      "text/plain": [
       "CD_ESCOLA                     0\n",
       "DIRETORES_QTD_2018          124\n",
       "COORDENADORES_QTD_2018        9\n",
       "DIRETORES_QTD_5_ANOS        124\n",
       "COORDENADORES_QTD_5_ANOS      9\n",
       "dtype: int64"
      ]
     },
     "execution_count": 21,
     "metadata": {},
     "output_type": "execute_result"
    }
   ],
   "source": [
    "features_historico.isnull().sum()"
   ]
  },
  {
   "cell_type": "code",
   "execution_count": 22,
   "metadata": {},
   "outputs": [],
   "source": [
    "features_historico.fillna(1, inplace=True)"
   ]
  },
  {
   "cell_type": "markdown",
   "metadata": {},
   "source": [
    "## Extrair caracteristicas dos diretores"
   ]
  },
  {
   "cell_type": "markdown",
   "metadata": {},
   "source": [
    "### Leitura dos dados de servidores ativos"
   ]
  },
  {
   "cell_type": "code",
   "execution_count": 25,
   "metadata": {},
   "outputs": [
    {
     "name": "stdout",
     "output_type": "stream",
     "text": [
      "(240465, 41)\n"
     ]
    },
    {
     "data": {
      "text/html": [
       "<div>\n",
       "<style scoped>\n",
       "    .dataframe tbody tr th:only-of-type {\n",
       "        vertical-align: middle;\n",
       "    }\n",
       "\n",
       "    .dataframe tbody tr th {\n",
       "        vertical-align: top;\n",
       "    }\n",
       "\n",
       "    .dataframe thead th {\n",
       "        text-align: right;\n",
       "    }\n",
       "</style>\n",
       "<table border=\"1\" class=\"dataframe\">\n",
       "  <thead>\n",
       "    <tr style=\"text-align: right;\">\n",
       "      <th></th>\n",
       "      <th>POLO_C</th>\n",
       "      <th>REGIAO_C</th>\n",
       "      <th>NOMEDE_C</th>\n",
       "      <th>UAC</th>\n",
       "      <th>NOMEUA_C</th>\n",
       "      <th>MUNICIPIO_C</th>\n",
       "      <th>NOME_SERVIDOR</th>\n",
       "      <th>RG</th>\n",
       "      <th>DI</th>\n",
       "      <th>CPF</th>\n",
       "      <th>RS</th>\n",
       "      <th>PV</th>\n",
       "      <th>SEXO</th>\n",
       "      <th>DATA_NASCIMENTO</th>\n",
       "      <th>IDADE</th>\n",
       "      <th>CARGO_C</th>\n",
       "      <th>NOMECAR_C</th>\n",
       "      <th>QUADRO_C</th>\n",
       "      <th>CATEG_C</th>\n",
       "      <th>DT_INICIO_EXERCICIO_C</th>\n",
       "      <th>ANOS_TRAB_CARGO_C</th>\n",
       "      <th>DISC_CONCURSO</th>\n",
       "      <th>DTI_INICIO_AFAS</th>\n",
       "      <th>POLO_E</th>\n",
       "      <th>REGIAO_E</th>\n",
       "      <th>NOMEDE_E</th>\n",
       "      <th>UA_E</th>\n",
       "      <th>LOCAL_UA</th>\n",
       "      <th>NOMEUA_E</th>\n",
       "      <th>MUNICIPIO_E</th>\n",
       "      <th>CARGO_E</th>\n",
       "      <th>NOMECAR_E</th>\n",
       "      <th>QUADRO_E</th>\n",
       "      <th>CATEG_E</th>\n",
       "      <th>DATA_INICIO_EXERCICIO_E</th>\n",
       "      <th>QTDE_ATS</th>\n",
       "      <th>EMAIL</th>\n",
       "      <th>JORNADA</th>\n",
       "      <th>TIPO_DEF</th>\n",
       "      <th>ID_COR</th>\n",
       "      <th>id_interno</th>\n",
       "    </tr>\n",
       "  </thead>\n",
       "  <tbody>\n",
       "    <tr>\n",
       "      <th>0</th>\n",
       "      <td>POLO 10</td>\n",
       "      <td>INTERIOR</td>\n",
       "      <td>D.E.REG. ITU</td>\n",
       "      <td>41998</td>\n",
       "      <td>EE CESARIO MOTTA-DR.</td>\n",
       "      <td>ITU</td>\n",
       "      <td>247578.0</td>\n",
       "      <td>247578.0</td>\n",
       "      <td>1.0</td>\n",
       "      <td>247578.0</td>\n",
       "      <td>247578.0</td>\n",
       "      <td>7</td>\n",
       "      <td>M</td>\n",
       "      <td>16/01/1986</td>\n",
       "      <td>32.0</td>\n",
       "      <td>6409.0</td>\n",
       "      <td>PROFESSOR EDUCACAO BASICA II</td>\n",
       "      <td>QM</td>\n",
       "      <td>A</td>\n",
       "      <td>01/02/2013</td>\n",
       "      <td>5.0</td>\n",
       "      <td>2200.0</td>\n",
       "      <td>NaN</td>\n",
       "      <td>POLO 10</td>\n",
       "      <td>INTERIOR</td>\n",
       "      <td>D.E.REG. ITU</td>\n",
       "      <td>41998.0</td>\n",
       "      <td>UE</td>\n",
       "      <td>EE CESARIO MOTTA-DR.</td>\n",
       "      <td>ITU</td>\n",
       "      <td>6409.0</td>\n",
       "      <td>PROFESSOR EDUCACAO BASICA II</td>\n",
       "      <td>QM</td>\n",
       "      <td>A</td>\n",
       "      <td>01/02/2013</td>\n",
       "      <td>1.0</td>\n",
       "      <td>247578</td>\n",
       "      <td>B</td>\n",
       "      <td>NaN</td>\n",
       "      <td>P</td>\n",
       "      <td>247578.0</td>\n",
       "    </tr>\n",
       "    <tr>\n",
       "      <th>1</th>\n",
       "      <td>POLO 10</td>\n",
       "      <td>INTERIOR</td>\n",
       "      <td>D.E.REG. ITU</td>\n",
       "      <td>41998</td>\n",
       "      <td>EE CESARIO MOTTA-DR.</td>\n",
       "      <td>ITU</td>\n",
       "      <td>301407.0</td>\n",
       "      <td>301407.0</td>\n",
       "      <td>1.0</td>\n",
       "      <td>301407.0</td>\n",
       "      <td>301407.0</td>\n",
       "      <td>2</td>\n",
       "      <td>F</td>\n",
       "      <td>27/04/1971</td>\n",
       "      <td>47.0</td>\n",
       "      <td>6409.0</td>\n",
       "      <td>PROFESSOR EDUCACAO BASICA II</td>\n",
       "      <td>QM</td>\n",
       "      <td>F</td>\n",
       "      <td>12/02/2003</td>\n",
       "      <td>15.0</td>\n",
       "      <td>NaN</td>\n",
       "      <td>NaN</td>\n",
       "      <td>POLO 10</td>\n",
       "      <td>INTERIOR</td>\n",
       "      <td>D.E.REG. ITU</td>\n",
       "      <td>41998.0</td>\n",
       "      <td>UE</td>\n",
       "      <td>EE CESARIO MOTTA-DR.</td>\n",
       "      <td>ITU</td>\n",
       "      <td>6409.0</td>\n",
       "      <td>PROFESSOR EDUCACAO BASICA II</td>\n",
       "      <td>QM</td>\n",
       "      <td>F</td>\n",
       "      <td>12/02/2003</td>\n",
       "      <td>4.0</td>\n",
       "      <td>301407</td>\n",
       "      <td></td>\n",
       "      <td>NaN</td>\n",
       "      <td>B</td>\n",
       "      <td>301407.0</td>\n",
       "    </tr>\n",
       "    <tr>\n",
       "      <th>2</th>\n",
       "      <td>POLO 04</td>\n",
       "      <td>GDE_SP</td>\n",
       "      <td>D.E.REG. GUARULHOS NORTE</td>\n",
       "      <td>40377</td>\n",
       "      <td>EE JUVENAL RAMOS BARBOSA</td>\n",
       "      <td>GUARULHOS</td>\n",
       "      <td>351824.0</td>\n",
       "      <td>351824.0</td>\n",
       "      <td>2.0</td>\n",
       "      <td>351824.0</td>\n",
       "      <td>351824.0</td>\n",
       "      <td>4</td>\n",
       "      <td>F</td>\n",
       "      <td>12/01/1965</td>\n",
       "      <td>53.0</td>\n",
       "      <td>6200.0</td>\n",
       "      <td>DIRETOR DE ESCOLA</td>\n",
       "      <td>QM</td>\n",
       "      <td>A</td>\n",
       "      <td>16/02/2009</td>\n",
       "      <td>9.0</td>\n",
       "      <td>0.0</td>\n",
       "      <td>NaN</td>\n",
       "      <td>POLO 01</td>\n",
       "      <td>CAPITAL</td>\n",
       "      <td>D.E.REG. NORTE 2</td>\n",
       "      <td>23850.0</td>\n",
       "      <td>DE</td>\n",
       "      <td>D.E.REG. NORTE 2</td>\n",
       "      <td>SAO PAULO</td>\n",
       "      <td>6444.0</td>\n",
       "      <td>SUPERVISOR DE ENSINO</td>\n",
       "      <td>QM</td>\n",
       "      <td>D</td>\n",
       "      <td>06/04/2016</td>\n",
       "      <td>3.0</td>\n",
       "      <td>351824</td>\n",
       "      <td></td>\n",
       "      <td>NaN</td>\n",
       "      <td>B</td>\n",
       "      <td>351824.0</td>\n",
       "    </tr>\n",
       "    <tr>\n",
       "      <th>3</th>\n",
       "      <td>POLO 06</td>\n",
       "      <td>GDE_SP</td>\n",
       "      <td>D.E.REG. OSASCO</td>\n",
       "      <td>41366</td>\n",
       "      <td>EE BENEDICTO CALDEIRA-PROF.</td>\n",
       "      <td>OSASCO</td>\n",
       "      <td>152209.0</td>\n",
       "      <td>152209.0</td>\n",
       "      <td>2.0</td>\n",
       "      <td>152209.0</td>\n",
       "      <td>152209.0</td>\n",
       "      <td>3</td>\n",
       "      <td>F</td>\n",
       "      <td>24/04/1962</td>\n",
       "      <td>56.0</td>\n",
       "      <td>6200.0</td>\n",
       "      <td>DIRETOR DE ESCOLA</td>\n",
       "      <td>QM</td>\n",
       "      <td>A</td>\n",
       "      <td>10/01/2003</td>\n",
       "      <td>15.0</td>\n",
       "      <td>NaN</td>\n",
       "      <td>NaN</td>\n",
       "      <td>POLO 06</td>\n",
       "      <td>GDE_SP</td>\n",
       "      <td>D.E.REG. OSASCO</td>\n",
       "      <td>39632.0</td>\n",
       "      <td>DE</td>\n",
       "      <td>D.E.REG. OSASCO</td>\n",
       "      <td>OSASCO</td>\n",
       "      <td>6444.0</td>\n",
       "      <td>SUPERVISOR DE ENSINO</td>\n",
       "      <td>QM</td>\n",
       "      <td>D</td>\n",
       "      <td>06/09/2011</td>\n",
       "      <td>5.0</td>\n",
       "      <td>152209</td>\n",
       "      <td></td>\n",
       "      <td>NaN</td>\n",
       "      <td>P</td>\n",
       "      <td>152209.0</td>\n",
       "    </tr>\n",
       "    <tr>\n",
       "      <th>4</th>\n",
       "      <td>POLO 06</td>\n",
       "      <td>GDE_SP</td>\n",
       "      <td>D.E.REG. ITAPEVI</td>\n",
       "      <td>22716</td>\n",
       "      <td>EE JOSEPHA PINTO CHIAVELLI-PFA</td>\n",
       "      <td>JANDIRA</td>\n",
       "      <td>235897.0</td>\n",
       "      <td>235897.0</td>\n",
       "      <td>1.0</td>\n",
       "      <td>235897.0</td>\n",
       "      <td>235897.0</td>\n",
       "      <td>4</td>\n",
       "      <td>F</td>\n",
       "      <td>13/03/1971</td>\n",
       "      <td>47.0</td>\n",
       "      <td>6409.0</td>\n",
       "      <td>PROFESSOR EDUCACAO BASICA II</td>\n",
       "      <td>QM</td>\n",
       "      <td>A</td>\n",
       "      <td>07/02/2000</td>\n",
       "      <td>18.0</td>\n",
       "      <td>1100.0</td>\n",
       "      <td>NaN</td>\n",
       "      <td>POLO 06</td>\n",
       "      <td>GDE_SP</td>\n",
       "      <td>D.E.REG. ITAPEVI</td>\n",
       "      <td>22716.0</td>\n",
       "      <td>UE</td>\n",
       "      <td>EE JOSEPHA PINTO CHIAVELLI-PFA</td>\n",
       "      <td>JANDIRA</td>\n",
       "      <td>6409.0</td>\n",
       "      <td>PROFESSOR EDUCACAO BASICA II</td>\n",
       "      <td>QM</td>\n",
       "      <td>A</td>\n",
       "      <td>07/02/2000</td>\n",
       "      <td>5.0</td>\n",
       "      <td>235897</td>\n",
       "      <td>R</td>\n",
       "      <td>NaN</td>\n",
       "      <td>B</td>\n",
       "      <td>235897.0</td>\n",
       "    </tr>\n",
       "  </tbody>\n",
       "</table>\n",
       "</div>"
      ],
      "text/plain": [
       "    POLO_C  REGIAO_C                  NOMEDE_C    UAC  \\\n",
       "0  POLO 10  INTERIOR              D.E.REG. ITU  41998   \n",
       "1  POLO 10  INTERIOR              D.E.REG. ITU  41998   \n",
       "2  POLO 04    GDE_SP  D.E.REG. GUARULHOS NORTE  40377   \n",
       "3  POLO 06    GDE_SP           D.E.REG. OSASCO  41366   \n",
       "4  POLO 06    GDE_SP        D.E.REG. ITAPEVI    22716   \n",
       "\n",
       "                         NOMEUA_C                              MUNICIPIO_C  \\\n",
       "0   EE CESARIO MOTTA-DR.           ITU                                       \n",
       "1   EE CESARIO MOTTA-DR.           ITU                                       \n",
       "2  EE JUVENAL RAMOS BARBOSA        GUARULHOS                                 \n",
       "3   EE BENEDICTO CALDEIRA-PROF.    OSASCO                                    \n",
       "4  EE JOSEPHA PINTO CHIAVELLI-PFA  JANDIRA                                   \n",
       "\n",
       "   NOME_SERVIDOR        RG   DI       CPF        RS PV SEXO DATA_NASCIMENTO  \\\n",
       "0       247578.0  247578.0  1.0  247578.0  247578.0  7    M      16/01/1986   \n",
       "1       301407.0  301407.0  1.0  301407.0  301407.0  2    F      27/04/1971   \n",
       "2       351824.0  351824.0  2.0  351824.0  351824.0  4    F      12/01/1965   \n",
       "3       152209.0  152209.0  2.0  152209.0  152209.0  3    F      24/04/1962   \n",
       "4       235897.0  235897.0  1.0  235897.0  235897.0  4    F      13/03/1971   \n",
       "\n",
       "   IDADE  CARGO_C                     NOMECAR_C QUADRO_C CATEG_C  \\\n",
       "0   32.0   6409.0  PROFESSOR EDUCACAO BASICA II       QM       A   \n",
       "1   47.0   6409.0  PROFESSOR EDUCACAO BASICA II       QM       F   \n",
       "2   53.0   6200.0             DIRETOR DE ESCOLA       QM       A   \n",
       "3   56.0   6200.0             DIRETOR DE ESCOLA       QM       A   \n",
       "4   47.0   6409.0  PROFESSOR EDUCACAO BASICA II       QM       A   \n",
       "\n",
       "  DT_INICIO_EXERCICIO_C  ANOS_TRAB_CARGO_C  DISC_CONCURSO DTI_INICIO_AFAS  \\\n",
       "0            01/02/2013                5.0         2200.0             NaN   \n",
       "1            12/02/2003               15.0            NaN             NaN   \n",
       "2            16/02/2009                9.0            0.0             NaN   \n",
       "3            10/01/2003               15.0            NaN             NaN   \n",
       "4            07/02/2000               18.0         1100.0             NaN   \n",
       "\n",
       "    POLO_E  REGIAO_E            NOMEDE_E     UA_E LOCAL_UA  \\\n",
       "0  POLO 10  INTERIOR        D.E.REG. ITU  41998.0       UE   \n",
       "1  POLO 10  INTERIOR        D.E.REG. ITU  41998.0       UE   \n",
       "2  POLO 01   CAPITAL  D.E.REG. NORTE 2    23850.0       DE   \n",
       "3  POLO 06    GDE_SP     D.E.REG. OSASCO  39632.0       DE   \n",
       "4  POLO 06    GDE_SP  D.E.REG. ITAPEVI    22716.0       UE   \n",
       "\n",
       "                         NOMEUA_E                              MUNICIPIO_E  \\\n",
       "0   EE CESARIO MOTTA-DR.           ITU                                       \n",
       "1   EE CESARIO MOTTA-DR.           ITU                                       \n",
       "2              D.E.REG. NORTE 2    SAO PAULO                                 \n",
       "3                 D.E.REG. OSASCO  OSASCO                                    \n",
       "4  EE JOSEPHA PINTO CHIAVELLI-PFA  JANDIRA                                   \n",
       "\n",
       "   CARGO_E                     NOMECAR_E QUADRO_E CATEG_E  \\\n",
       "0   6409.0  PROFESSOR EDUCACAO BASICA II       QM       A   \n",
       "1   6409.0  PROFESSOR EDUCACAO BASICA II       QM       F   \n",
       "2   6444.0          SUPERVISOR DE ENSINO       QM       D   \n",
       "3   6444.0          SUPERVISOR DE ENSINO       QM       D   \n",
       "4   6409.0  PROFESSOR EDUCACAO BASICA II       QM       A   \n",
       "\n",
       "  DATA_INICIO_EXERCICIO_E  QTDE_ATS   EMAIL JORNADA TIPO_DEF ID_COR  \\\n",
       "0              01/02/2013       1.0  247578       B      NaN      P   \n",
       "1              12/02/2003       4.0  301407              NaN      B   \n",
       "2              06/04/2016       3.0  351824              NaN      B   \n",
       "3              06/09/2011       5.0  152209              NaN      P   \n",
       "4              07/02/2000       5.0  235897       R      NaN      B   \n",
       "\n",
       "   id_interno  \n",
       "0    247578.0  \n",
       "1    301407.0  \n",
       "2    351824.0  \n",
       "3    152209.0  \n",
       "4    235897.0  "
      ]
     },
     "execution_count": 25,
     "metadata": {},
     "output_type": "execute_result"
    }
   ],
   "source": [
    "df_servidores = pd.read_csv(os.path.join(PATH, 'BASE_SERVIDORES_ATIVOS_1118.csv'), sep=';', encoding='latin-1', low_memory=False)\n",
    "print(df_servidores.shape)\n",
    "df_servidores.head()"
   ]
  },
  {
   "cell_type": "markdown",
   "metadata": {},
   "source": [
    "### Leitura da base formacao"
   ]
  },
  {
   "cell_type": "code",
   "execution_count": 26,
   "metadata": {},
   "outputs": [],
   "source": [
    "df_formacao = pd.read_csv(os.path.join(PATH, 'BASE_FORMACAO_1118.csv'), sep=';', encoding='latin-1', decimal=',')"
   ]
  },
  {
   "cell_type": "markdown",
   "metadata": {},
   "source": [
    "### Juntar bases para obter o codigo da escola"
   ]
  },
  {
   "cell_type": "code",
   "execution_count": 27,
   "metadata": {},
   "outputs": [],
   "source": [
    "df_servidores = pd.merge(df_formacao[['CPF', 'UA_EXERC', 'DI', 'CIE_ESCOLA']], df_servidores, left_on=['CPF', 'UA_EXERC', 'DI'], right_on=['CPF', 'UA_E', 'DI'], how='inner')"
   ]
  },
  {
   "cell_type": "markdown",
   "metadata": {},
   "source": [
    "### Cacular o tempo cargo de exercicio"
   ]
  },
  {
   "cell_type": "code",
   "execution_count": 28,
   "metadata": {},
   "outputs": [],
   "source": [
    "df_servidores['DATA_INICIO_EXERCICIO_E'] = pd.to_datetime(df_servidores['DATA_INICIO_EXERCICIO_E'], format='%d/%m/%Y')"
   ]
  },
  {
   "cell_type": "code",
   "execution_count": 29,
   "metadata": {},
   "outputs": [],
   "source": [
    "df_servidores['ANOS_TRAB_CARGO_E'] = (pd.to_datetime('31-12-2018') - df_servidores['DATA_INICIO_EXERCICIO_E']).astype('timedelta64[Y]')"
   ]
  },
  {
   "cell_type": "markdown",
   "metadata": {},
   "source": [
    "### Verificar servidores com cargo de exercicio diferente do cargo de classificacao"
   ]
  },
  {
   "cell_type": "code",
   "execution_count": 30,
   "metadata": {},
   "outputs": [],
   "source": [
    "df_servidores['CARGO_CLAS_EXER_IGUAIS'] = (df_servidores['CARGO_C'] == df_servidores['CARGO_E']).astype(int)"
   ]
  },
  {
   "cell_type": "markdown",
   "metadata": {},
   "source": [
    "### Filtrar apenas os cargos de diretor\n",
    "Uma quantidade pequena de escolas apresentam mais de um diretor. A abordagem a seguir seleciona apenas um diretor, priorizando o mais antigo"
   ]
  },
  {
   "cell_type": "code",
   "execution_count": 31,
   "metadata": {},
   "outputs": [],
   "source": [
    "df_servidores_diretores = df_servidores[df_servidores['CARGO_E'] == 6200]\n",
    "df_servidores_diretores = df_servidores_diretores.sort_values('ANOS_TRAB_CARGO_E', ascending=False).drop_duplicates(subset=['CIE_ESCOLA'], keep='first')"
   ]
  },
  {
   "cell_type": "markdown",
   "metadata": {},
   "source": [
    "### Selecao dos atributos"
   ]
  },
  {
   "cell_type": "code",
   "execution_count": 32,
   "metadata": {},
   "outputs": [],
   "source": [
    "df_servidores_diretores = df_servidores_diretores[['CPF', 'CIE_ESCOLA', 'CARGO_E', 'NOMECAR_E',  'IDADE', 'CARGO_CLAS_EXER_IGUAIS', 'ANOS_TRAB_CARGO_C', 'ANOS_TRAB_CARGO_E']]"
   ]
  },
  {
   "cell_type": "code",
   "execution_count": 33,
   "metadata": {},
   "outputs": [
    {
     "data": {
      "text/html": [
       "<div>\n",
       "<style scoped>\n",
       "    .dataframe tbody tr th:only-of-type {\n",
       "        vertical-align: middle;\n",
       "    }\n",
       "\n",
       "    .dataframe tbody tr th {\n",
       "        vertical-align: top;\n",
       "    }\n",
       "\n",
       "    .dataframe thead th {\n",
       "        text-align: right;\n",
       "    }\n",
       "</style>\n",
       "<table border=\"1\" class=\"dataframe\">\n",
       "  <thead>\n",
       "    <tr style=\"text-align: right;\">\n",
       "      <th></th>\n",
       "      <th>CPF</th>\n",
       "      <th>CIE_ESCOLA</th>\n",
       "      <th>CARGO_E</th>\n",
       "      <th>NOMECAR_E</th>\n",
       "      <th>IDADE</th>\n",
       "      <th>CARGO_CLAS_EXER_IGUAIS</th>\n",
       "      <th>ANOS_TRAB_CARGO_C</th>\n",
       "      <th>ANOS_TRAB_CARGO_E</th>\n",
       "    </tr>\n",
       "  </thead>\n",
       "  <tbody>\n",
       "    <tr>\n",
       "      <th>211898</th>\n",
       "      <td>340894.0</td>\n",
       "      <td>5812</td>\n",
       "      <td>6200.0</td>\n",
       "      <td>DIRETOR DE ESCOLA</td>\n",
       "      <td>67.0</td>\n",
       "      <td>1</td>\n",
       "      <td>46.0</td>\n",
       "      <td>46.0</td>\n",
       "    </tr>\n",
       "    <tr>\n",
       "      <th>219377</th>\n",
       "      <td>353708.0</td>\n",
       "      <td>923849</td>\n",
       "      <td>6200.0</td>\n",
       "      <td>DIRETOR DE ESCOLA</td>\n",
       "      <td>68.0</td>\n",
       "      <td>1</td>\n",
       "      <td>41.0</td>\n",
       "      <td>41.0</td>\n",
       "    </tr>\n",
       "    <tr>\n",
       "      <th>12977</th>\n",
       "      <td>342406.0</td>\n",
       "      <td>39858</td>\n",
       "      <td>6200.0</td>\n",
       "      <td>DIRETOR DE ESCOLA</td>\n",
       "      <td>70.0</td>\n",
       "      <td>1</td>\n",
       "      <td>41.0</td>\n",
       "      <td>41.0</td>\n",
       "    </tr>\n",
       "    <tr>\n",
       "      <th>224473</th>\n",
       "      <td>234012.0</td>\n",
       "      <td>28319</td>\n",
       "      <td>6200.0</td>\n",
       "      <td>DIRETOR DE ESCOLA</td>\n",
       "      <td>70.0</td>\n",
       "      <td>1</td>\n",
       "      <td>39.0</td>\n",
       "      <td>39.0</td>\n",
       "    </tr>\n",
       "    <tr>\n",
       "      <th>79020</th>\n",
       "      <td>346705.0</td>\n",
       "      <td>10510</td>\n",
       "      <td>6200.0</td>\n",
       "      <td>DIRETOR DE ESCOLA</td>\n",
       "      <td>65.0</td>\n",
       "      <td>1</td>\n",
       "      <td>39.0</td>\n",
       "      <td>39.0</td>\n",
       "    </tr>\n",
       "  </tbody>\n",
       "</table>\n",
       "</div>"
      ],
      "text/plain": [
       "             CPF  CIE_ESCOLA  CARGO_E          NOMECAR_E  IDADE  \\\n",
       "211898  340894.0        5812   6200.0  DIRETOR DE ESCOLA   67.0   \n",
       "219377  353708.0      923849   6200.0  DIRETOR DE ESCOLA   68.0   \n",
       "12977   342406.0       39858   6200.0  DIRETOR DE ESCOLA   70.0   \n",
       "224473  234012.0       28319   6200.0  DIRETOR DE ESCOLA   70.0   \n",
       "79020   346705.0       10510   6200.0  DIRETOR DE ESCOLA   65.0   \n",
       "\n",
       "        CARGO_CLAS_EXER_IGUAIS  ANOS_TRAB_CARGO_C  ANOS_TRAB_CARGO_E  \n",
       "211898                       1               46.0               46.0  \n",
       "219377                       1               41.0               41.0  \n",
       "12977                        1               41.0               41.0  \n",
       "224473                       1               39.0               39.0  \n",
       "79020                        1               39.0               39.0  "
      ]
     },
     "execution_count": 33,
     "metadata": {},
     "output_type": "execute_result"
    }
   ],
   "source": [
    "df_servidores_diretores[['CPF', 'CIE_ESCOLA', 'CARGO_E', 'NOMECAR_E',  'IDADE', 'CARGO_CLAS_EXER_IGUAIS', 'ANOS_TRAB_CARGO_C', 'ANOS_TRAB_CARGO_E']].head()"
   ]
  },
  {
   "cell_type": "code",
   "execution_count": 34,
   "metadata": {},
   "outputs": [],
   "source": [
    "df_servidores_diretores.columns = 'DIRETOR_' + df_servidores_diretores.columns "
   ]
  },
  {
   "cell_type": "markdown",
   "metadata": {},
   "source": [
    "## Juntar caracteristicas da diretoria com as caractericas relacionadas ao historico"
   ]
  },
  {
   "cell_type": "code",
   "execution_count": 35,
   "metadata": {},
   "outputs": [],
   "source": [
    "features = pd.merge(features_historico, df_servidores_diretores, left_on='CD_ESCOLA', right_on='DIRETOR_CIE_ESCOLA', how='inner')"
   ]
  },
  {
   "cell_type": "markdown",
   "metadata": {},
   "source": [
    "## Exportar dados"
   ]
  },
  {
   "cell_type": "code",
   "execution_count": 36,
   "metadata": {},
   "outputs": [
    {
     "data": {
      "text/html": [
       "<div>\n",
       "<style scoped>\n",
       "    .dataframe tbody tr th:only-of-type {\n",
       "        vertical-align: middle;\n",
       "    }\n",
       "\n",
       "    .dataframe tbody tr th {\n",
       "        vertical-align: top;\n",
       "    }\n",
       "\n",
       "    .dataframe thead th {\n",
       "        text-align: right;\n",
       "    }\n",
       "</style>\n",
       "<table border=\"1\" class=\"dataframe\">\n",
       "  <thead>\n",
       "    <tr style=\"text-align: right;\">\n",
       "      <th></th>\n",
       "      <th>CD_ESCOLA</th>\n",
       "      <th>DIRETORES_QTD_2018</th>\n",
       "      <th>COORDENADORES_QTD_2018</th>\n",
       "      <th>DIRETORES_QTD_5_ANOS</th>\n",
       "      <th>COORDENADORES_QTD_5_ANOS</th>\n",
       "      <th>DIRETOR_CPF</th>\n",
       "      <th>DIRETOR_CIE_ESCOLA</th>\n",
       "      <th>DIRETOR_CARGO_E</th>\n",
       "      <th>DIRETOR_NOMECAR_E</th>\n",
       "      <th>DIRETOR_IDADE</th>\n",
       "      <th>DIRETOR_CARGO_CLAS_EXER_IGUAIS</th>\n",
       "      <th>DIRETOR_ANOS_TRAB_CARGO_C</th>\n",
       "      <th>DIRETOR_ANOS_TRAB_CARGO_E</th>\n",
       "    </tr>\n",
       "  </thead>\n",
       "  <tbody>\n",
       "    <tr>\n",
       "      <th>0</th>\n",
       "      <td>24</td>\n",
       "      <td>3.0</td>\n",
       "      <td>3.0</td>\n",
       "      <td>11.0</td>\n",
       "      <td>17.0</td>\n",
       "      <td>140419.0</td>\n",
       "      <td>24</td>\n",
       "      <td>6200.0</td>\n",
       "      <td>DIRETOR DE ESCOLA</td>\n",
       "      <td>33.0</td>\n",
       "      <td>1</td>\n",
       "      <td>0.0</td>\n",
       "      <td>0.0</td>\n",
       "    </tr>\n",
       "    <tr>\n",
       "      <th>1</th>\n",
       "      <td>36</td>\n",
       "      <td>4.0</td>\n",
       "      <td>3.0</td>\n",
       "      <td>13.0</td>\n",
       "      <td>13.0</td>\n",
       "      <td>361644.0</td>\n",
       "      <td>36</td>\n",
       "      <td>6200.0</td>\n",
       "      <td>DIRETOR DE ESCOLA</td>\n",
       "      <td>50.0</td>\n",
       "      <td>0</td>\n",
       "      <td>18.0</td>\n",
       "      <td>0.0</td>\n",
       "    </tr>\n",
       "    <tr>\n",
       "      <th>2</th>\n",
       "      <td>48</td>\n",
       "      <td>2.0</td>\n",
       "      <td>2.0</td>\n",
       "      <td>8.0</td>\n",
       "      <td>10.0</td>\n",
       "      <td>334774.0</td>\n",
       "      <td>48</td>\n",
       "      <td>6200.0</td>\n",
       "      <td>DIRETOR DE ESCOLA</td>\n",
       "      <td>58.0</td>\n",
       "      <td>0</td>\n",
       "      <td>18.0</td>\n",
       "      <td>2.0</td>\n",
       "    </tr>\n",
       "    <tr>\n",
       "      <th>3</th>\n",
       "      <td>59</td>\n",
       "      <td>4.0</td>\n",
       "      <td>1.0</td>\n",
       "      <td>12.0</td>\n",
       "      <td>6.0</td>\n",
       "      <td>149926.0</td>\n",
       "      <td>59</td>\n",
       "      <td>6200.0</td>\n",
       "      <td>DIRETOR DE ESCOLA</td>\n",
       "      <td>38.0</td>\n",
       "      <td>0</td>\n",
       "      <td>10.0</td>\n",
       "      <td>0.0</td>\n",
       "    </tr>\n",
       "    <tr>\n",
       "      <th>4</th>\n",
       "      <td>61</td>\n",
       "      <td>2.0</td>\n",
       "      <td>2.0</td>\n",
       "      <td>10.0</td>\n",
       "      <td>8.0</td>\n",
       "      <td>342266.0</td>\n",
       "      <td>61</td>\n",
       "      <td>6200.0</td>\n",
       "      <td>DIRETOR DE ESCOLA</td>\n",
       "      <td>53.0</td>\n",
       "      <td>1</td>\n",
       "      <td>9.0</td>\n",
       "      <td>9.0</td>\n",
       "    </tr>\n",
       "  </tbody>\n",
       "</table>\n",
       "</div>"
      ],
      "text/plain": [
       "   CD_ESCOLA  DIRETORES_QTD_2018  COORDENADORES_QTD_2018  \\\n",
       "0         24                 3.0                     3.0   \n",
       "1         36                 4.0                     3.0   \n",
       "2         48                 2.0                     2.0   \n",
       "3         59                 4.0                     1.0   \n",
       "4         61                 2.0                     2.0   \n",
       "\n",
       "   DIRETORES_QTD_5_ANOS  COORDENADORES_QTD_5_ANOS  DIRETOR_CPF  \\\n",
       "0                  11.0                      17.0     140419.0   \n",
       "1                  13.0                      13.0     361644.0   \n",
       "2                   8.0                      10.0     334774.0   \n",
       "3                  12.0                       6.0     149926.0   \n",
       "4                  10.0                       8.0     342266.0   \n",
       "\n",
       "   DIRETOR_CIE_ESCOLA  DIRETOR_CARGO_E  DIRETOR_NOMECAR_E  DIRETOR_IDADE  \\\n",
       "0                  24           6200.0  DIRETOR DE ESCOLA           33.0   \n",
       "1                  36           6200.0  DIRETOR DE ESCOLA           50.0   \n",
       "2                  48           6200.0  DIRETOR DE ESCOLA           58.0   \n",
       "3                  59           6200.0  DIRETOR DE ESCOLA           38.0   \n",
       "4                  61           6200.0  DIRETOR DE ESCOLA           53.0   \n",
       "\n",
       "   DIRETOR_CARGO_CLAS_EXER_IGUAIS  DIRETOR_ANOS_TRAB_CARGO_C  \\\n",
       "0                               1                        0.0   \n",
       "1                               0                       18.0   \n",
       "2                               0                       18.0   \n",
       "3                               0                       10.0   \n",
       "4                               1                        9.0   \n",
       "\n",
       "   DIRETOR_ANOS_TRAB_CARGO_E  \n",
       "0                        0.0  \n",
       "1                        0.0  \n",
       "2                        2.0  \n",
       "3                        0.0  \n",
       "4                        9.0  "
      ]
     },
     "execution_count": 36,
     "metadata": {},
     "output_type": "execute_result"
    }
   ],
   "source": [
    "features.head()"
   ]
  },
  {
   "cell_type": "code",
   "execution_count": 38,
   "metadata": {},
   "outputs": [],
   "source": [
    "features.to_csv('../data/processed/gestores_historico.csv', index=False)"
   ]
  }
 ],
 "metadata": {
  "kernelspec": {
   "display_name": "Python 3",
   "language": "python",
   "name": "python3"
  },
  "language_info": {
   "codemirror_mode": {
    "name": "ipython",
    "version": 3
   },
   "file_extension": ".py",
   "mimetype": "text/x-python",
   "name": "python",
   "nbconvert_exporter": "python",
   "pygments_lexer": "ipython3",
   "version": "3.7.6"
  }
 },
 "nbformat": 4,
 "nbformat_minor": 4
}
