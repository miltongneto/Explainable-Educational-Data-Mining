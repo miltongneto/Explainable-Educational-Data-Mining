{
 "cells": [
  {
   "cell_type": "markdown",
   "metadata": {},
   "source": [
    "# Exploratory Data Analysis - Quantidade de Alunos\n",
    "Quantidade de alunos por classe"
   ]
  },
  {
   "cell_type": "markdown",
   "metadata": {},
   "source": [
    "#### Imports"
   ]
  },
  {
   "cell_type": "code",
   "execution_count": 1,
   "metadata": {},
   "outputs": [],
   "source": [
    "import pandas as pd\n",
    "import os\n",
    "import matplotlib.pyplot as plt\n",
    "import seaborn as sns\n",
    "import numpy as np\n",
    "from unidecode import unidecode\n",
    "\n",
    "pd.set_option('display.max_columns', None)"
   ]
  },
  {
   "cell_type": "markdown",
   "metadata": {},
   "source": [
    "## Carregar dados"
   ]
  },
  {
   "cell_type": "code",
   "execution_count": 2,
   "metadata": {},
   "outputs": [],
   "source": [
    "PATH = '../data/raw'"
   ]
  },
  {
   "cell_type": "markdown",
   "metadata": {},
   "source": [
    "### Dados das Classes"
   ]
  },
  {
   "cell_type": "code",
   "execution_count": 3,
   "metadata": {},
   "outputs": [
    {
     "name": "stdout",
     "output_type": "stream",
     "text": [
      "(803941, 18)\n"
     ]
    },
    {
     "data": {
      "text/html": [
       "<div>\n",
       "<style scoped>\n",
       "    .dataframe tbody tr th:only-of-type {\n",
       "        vertical-align: middle;\n",
       "    }\n",
       "\n",
       "    .dataframe tbody tr th {\n",
       "        vertical-align: top;\n",
       "    }\n",
       "\n",
       "    .dataframe thead th {\n",
       "        text-align: right;\n",
       "    }\n",
       "</style>\n",
       "<table border=\"1\" class=\"dataframe\">\n",
       "  <thead>\n",
       "    <tr style=\"text-align: right;\">\n",
       "      <th></th>\n",
       "      <th>ANO</th>\n",
       "      <th>NOMEDEP</th>\n",
       "      <th>DE</th>\n",
       "      <th>MUN</th>\n",
       "      <th>DISTR</th>\n",
       "      <th>COD_ESC</th>\n",
       "      <th>NOMESC</th>\n",
       "      <th>TIPOESC</th>\n",
       "      <th>TIPOESC_DESC</th>\n",
       "      <th>SITUACAO</th>\n",
       "      <th>CLASSE</th>\n",
       "      <th>TIPOCLASSE</th>\n",
       "      <th>TIPOCLASSE_DESC</th>\n",
       "      <th>GRAU</th>\n",
       "      <th>TipoEnsino</th>\n",
       "      <th>SERIE</th>\n",
       "      <th>QTDE_ALUNOS</th>\n",
       "      <th>CODVINC</th>\n",
       "    </tr>\n",
       "  </thead>\n",
       "  <tbody>\n",
       "    <tr>\n",
       "      <th>0</th>\n",
       "      <td>2014</td>\n",
       "      <td>ESTADUAL - SE</td>\n",
       "      <td>ADAMANTINA</td>\n",
       "      <td>ADAMANTINA</td>\n",
       "      <td>ADAMANTINA</td>\n",
       "      <td>30806</td>\n",
       "      <td>HELEN KELLER</td>\n",
       "      <td>8</td>\n",
       "      <td>EE</td>\n",
       "      <td>Ativa</td>\n",
       "      <td>182570713</td>\n",
       "      <td>0</td>\n",
       "      <td>CLASSE COMUM</td>\n",
       "      <td>1</td>\n",
       "      <td>ENSINO FUNDAMENTAL DE 8 ANOS</td>\n",
       "      <td>8</td>\n",
       "      <td>21</td>\n",
       "      <td>NaN</td>\n",
       "    </tr>\n",
       "    <tr>\n",
       "      <th>1</th>\n",
       "      <td>2014</td>\n",
       "      <td>ESTADUAL - SE</td>\n",
       "      <td>ADAMANTINA</td>\n",
       "      <td>ADAMANTINA</td>\n",
       "      <td>ADAMANTINA</td>\n",
       "      <td>30806</td>\n",
       "      <td>HELEN KELLER</td>\n",
       "      <td>8</td>\n",
       "      <td>EE</td>\n",
       "      <td>Ativa</td>\n",
       "      <td>182570762</td>\n",
       "      <td>0</td>\n",
       "      <td>CLASSE COMUM</td>\n",
       "      <td>2</td>\n",
       "      <td>ENSINO MEDIO</td>\n",
       "      <td>2</td>\n",
       "      <td>37</td>\n",
       "      <td>NaN</td>\n",
       "    </tr>\n",
       "    <tr>\n",
       "      <th>2</th>\n",
       "      <td>2014</td>\n",
       "      <td>ESTADUAL - SE</td>\n",
       "      <td>ADAMANTINA</td>\n",
       "      <td>ADAMANTINA</td>\n",
       "      <td>ADAMANTINA</td>\n",
       "      <td>30806</td>\n",
       "      <td>HELEN KELLER</td>\n",
       "      <td>8</td>\n",
       "      <td>EE</td>\n",
       "      <td>Ativa</td>\n",
       "      <td>186061859</td>\n",
       "      <td>1</td>\n",
       "      <td>CLASSE MULTISSERIADA</td>\n",
       "      <td>5</td>\n",
       "      <td>EJA ENSINO MÉDIO</td>\n",
       "      <td>10</td>\n",
       "      <td>25</td>\n",
       "      <td>NaN</td>\n",
       "    </tr>\n",
       "    <tr>\n",
       "      <th>3</th>\n",
       "      <td>2014</td>\n",
       "      <td>ESTADUAL - SE</td>\n",
       "      <td>ADAMANTINA</td>\n",
       "      <td>ADAMANTINA</td>\n",
       "      <td>ADAMANTINA</td>\n",
       "      <td>31045</td>\n",
       "      <td>DURVALINO GRION PROF</td>\n",
       "      <td>8</td>\n",
       "      <td>EE</td>\n",
       "      <td>Ativa</td>\n",
       "      <td>182570440</td>\n",
       "      <td>0</td>\n",
       "      <td>CLASSE COMUM</td>\n",
       "      <td>2</td>\n",
       "      <td>ENSINO MEDIO</td>\n",
       "      <td>2</td>\n",
       "      <td>26</td>\n",
       "      <td>NaN</td>\n",
       "    </tr>\n",
       "    <tr>\n",
       "      <th>4</th>\n",
       "      <td>2014</td>\n",
       "      <td>ESTADUAL - SE</td>\n",
       "      <td>ADAMANTINA</td>\n",
       "      <td>ADAMANTINA</td>\n",
       "      <td>ADAMANTINA</td>\n",
       "      <td>31045</td>\n",
       "      <td>DURVALINO GRION PROF</td>\n",
       "      <td>8</td>\n",
       "      <td>EE</td>\n",
       "      <td>Ativa</td>\n",
       "      <td>182570465</td>\n",
       "      <td>0</td>\n",
       "      <td>CLASSE COMUM</td>\n",
       "      <td>2</td>\n",
       "      <td>ENSINO MEDIO</td>\n",
       "      <td>3</td>\n",
       "      <td>33</td>\n",
       "      <td>NaN</td>\n",
       "    </tr>\n",
       "  </tbody>\n",
       "</table>\n",
       "</div>"
      ],
      "text/plain": [
       "    ANO        NOMEDEP          DE         MUN       DISTR  COD_ESC  \\\n",
       "0  2014  ESTADUAL - SE  ADAMANTINA  ADAMANTINA  ADAMANTINA    30806   \n",
       "1  2014  ESTADUAL - SE  ADAMANTINA  ADAMANTINA  ADAMANTINA    30806   \n",
       "2  2014  ESTADUAL - SE  ADAMANTINA  ADAMANTINA  ADAMANTINA    30806   \n",
       "3  2014  ESTADUAL - SE  ADAMANTINA  ADAMANTINA  ADAMANTINA    31045   \n",
       "4  2014  ESTADUAL - SE  ADAMANTINA  ADAMANTINA  ADAMANTINA    31045   \n",
       "\n",
       "                 NOMESC  TIPOESC TIPOESC_DESC SITUACAO     CLASSE  TIPOCLASSE  \\\n",
       "0          HELEN KELLER        8           EE    Ativa  182570713           0   \n",
       "1          HELEN KELLER        8           EE    Ativa  182570762           0   \n",
       "2          HELEN KELLER        8           EE    Ativa  186061859           1   \n",
       "3  DURVALINO GRION PROF        8           EE    Ativa  182570440           0   \n",
       "4  DURVALINO GRION PROF        8           EE    Ativa  182570465           0   \n",
       "\n",
       "        TIPOCLASSE_DESC  GRAU                    TipoEnsino  SERIE  \\\n",
       "0          CLASSE COMUM     1  ENSINO FUNDAMENTAL DE 8 ANOS      8   \n",
       "1          CLASSE COMUM     2                  ENSINO MEDIO      2   \n",
       "2  CLASSE MULTISSERIADA     5              EJA ENSINO MÉDIO     10   \n",
       "3          CLASSE COMUM     2                  ENSINO MEDIO      2   \n",
       "4          CLASSE COMUM     2                  ENSINO MEDIO      3   \n",
       "\n",
       "   QTDE_ALUNOS  CODVINC  \n",
       "0           21      NaN  \n",
       "1           37      NaN  \n",
       "2           25      NaN  \n",
       "3           26      NaN  \n",
       "4           33      NaN  "
      ]
     },
     "execution_count": 3,
     "metadata": {},
     "output_type": "execute_result"
    }
   ],
   "source": [
    "data = pd.read_csv(os.path.join(PATH, '10_Escolas_Classes_Qtde_Alunos.csv'), sep=';')\n",
    "print(data.shape)\n",
    "data.head()"
   ]
  },
  {
   "cell_type": "markdown",
   "metadata": {},
   "source": [
    "### Filtrar apenas dados de 2018"
   ]
  },
  {
   "cell_type": "code",
   "execution_count": 4,
   "metadata": {},
   "outputs": [
    {
     "data": {
      "text/plain": [
       "(127436, 18)"
      ]
     },
     "execution_count": 4,
     "metadata": {},
     "output_type": "execute_result"
    }
   ],
   "source": [
    "data = data[data['ANO'] == 2018]\n",
    "data.shape"
   ]
  },
  {
   "cell_type": "markdown",
   "metadata": {},
   "source": [
    "### Tipos de classes"
   ]
  },
  {
   "cell_type": "code",
   "execution_count": 5,
   "metadata": {},
   "outputs": [
    {
     "data": {
      "text/plain": [
       "CLASSE COMUM                                 113698\n",
       "CLASSE MULTISSERIADA                           6045\n",
       "CLASSE DE SALA DE RECURSOS                     4513\n",
       "CLASSE DE EF/EM INTEGRAL                       1618\n",
       "CLASSE DA ED. ESPECIAL ITINERANTE               712\n",
       "RC-RCI - RECUPERACAO CONTINUA E INTENSIVA       219\n",
       "RC - RECUPERACAO INTENSIVA DE CICLO             157\n",
       "RECUPERAÇÃO INTENSIVA - REDE ESTADUAL-SE        113\n",
       "CLASSE DE RECUPERACAO DE CICLO                  101\n",
       "ENSINO MEDIO ARTICULADO                          74\n",
       "CLASSE DE SALA DE RECURSOS MULTIFUNCIONAL        20\n",
       "CLASSE PIC                                        9\n",
       "Name: TIPOCLASSE_DESC, dtype: int64"
      ]
     },
     "execution_count": 5,
     "metadata": {},
     "output_type": "execute_result"
    }
   ],
   "source": [
    "data['TIPOCLASSE_DESC'].value_counts()"
   ]
  },
  {
   "cell_type": "markdown",
   "metadata": {},
   "source": [
    "## Agregação por escola"
   ]
  },
  {
   "cell_type": "markdown",
   "metadata": {},
   "source": [
    "### Quantidade de alunos na escola"
   ]
  },
  {
   "cell_type": "code",
   "execution_count": 6,
   "metadata": {},
   "outputs": [],
   "source": [
    "qtd_alunos_escola = data.groupby(['COD_ESC'])['QTDE_ALUNOS'].sum()\n",
    "qtd_alunos_escola.name = 'QTD_TOTAL_ALUNOS'"
   ]
  },
  {
   "cell_type": "code",
   "execution_count": 7,
   "metadata": {},
   "outputs": [
    {
     "data": {
      "text/plain": [
       "<matplotlib.axes._subplots.AxesSubplot at 0x7f0ae8934dd0>"
      ]
     },
     "execution_count": 7,
     "metadata": {},
     "output_type": "execute_result"
    },
    {
     "data": {
      "image/png": "[encoded data removed]",
      "text/plain": [
       "<Figure size 1008x576 with 1 Axes>"
      ]
     },
     "metadata": {
      "needs_background": "light"
     },
     "output_type": "display_data"
    }
   ],
   "source": [
    "qtd_alunos_escola.plot(kind='hist', bins=30, figsize=(14,8))"
   ]
  },
  {
   "cell_type": "markdown",
   "metadata": {},
   "source": [
    "### Quantidade de classes"
   ]
  },
  {
   "cell_type": "code",
   "execution_count": 8,
   "metadata": {},
   "outputs": [],
   "source": [
    "qtd_classes = data.groupby(['COD_ESC']).size()\n",
    "qtd_classes.name = 'QTD_CLASSES'"
   ]
  },
  {
   "cell_type": "code",
   "execution_count": 9,
   "metadata": {},
   "outputs": [
    {
     "data": {
      "text/plain": [
       "<matplotlib.axes._subplots.AxesSubplot at 0x7f0ae7e24d90>"
      ]
     },
     "execution_count": 9,
     "metadata": {},
     "output_type": "execute_result"
    },
    {
     "data": {
      "image/png": "[encoded data removed]",
      "text/plain": [
       "<Figure size 432x288 with 1 Axes>"
      ]
     },
     "metadata": {
      "needs_background": "light"
     },
     "output_type": "display_data"
    }
   ],
   "source": [
    "qtd_classes.hist(bins=30)"
   ]
  },
  {
   "cell_type": "markdown",
   "metadata": {},
   "source": [
    "### Quantidade média de alunos por classe"
   ]
  },
  {
   "cell_type": "code",
   "execution_count": 10,
   "metadata": {},
   "outputs": [],
   "source": [
    "media_alunos_classe = data.groupby(['COD_ESC'])['QTDE_ALUNOS'].mean()\n",
    "media_alunos_classe.name = 'MEDIA_ALUNOS_SALA'"
   ]
  },
  {
   "cell_type": "code",
   "execution_count": 11,
   "metadata": {},
   "outputs": [
    {
     "data": {
      "text/plain": [
       "<matplotlib.axes._subplots.AxesSubplot at 0x7f0ae7dcc3d0>"
      ]
     },
     "execution_count": 11,
     "metadata": {},
     "output_type": "execute_result"
    },
    {
     "data": {
      "image/png": "[encoded data removed]",
      "text/plain": [
       "<Figure size 432x288 with 1 Axes>"
      ]
     },
     "metadata": {
      "needs_background": "light"
     },
     "output_type": "display_data"
    }
   ],
   "source": [
    "media_alunos_classe.hist(bins=30)"
   ]
  },
  {
   "cell_type": "markdown",
   "metadata": {},
   "source": [
    "### Agregação de acordo com o tipo de ensino\n",
    "Deixar apenas as principais classes"
   ]
  },
  {
   "cell_type": "code",
   "execution_count": 12,
   "metadata": {},
   "outputs": [
    {
     "data": {
      "text/plain": [
       "ENSINO FUNDAMENTAL DE 9 ANOS                   52.383157\n",
       "ENSINO MEDIO                                   30.878245\n",
       "EJA ENSINO MÉDIO                                4.067924\n",
       "EDUCACAO ESPECIAL - DM                          3.318529\n",
       "CEL                                             2.642111\n",
       "EDUCAÇÃO COMPLEMENTAR                           2.280360\n",
       "EJA ENSINO FUNDAMENTAL 5ª A 8ª                  1.734204\n",
       "ENSINO FUNDAMENTAL (6º ANO A 9º ANO) - CASA     0.707022\n",
       "EJA ENSINO FUNDAMENTAL 1ª A 4ª                  0.560281\n",
       "ENSINO MÉDIO - CASA                             0.381368\n",
       "ESPECTRO DO AUTISMO                             0.284064\n",
       "EDUCACAO ESPECIAL - DA                          0.272294\n",
       "EDUCACAO ESPECIAL - DV                          0.175775\n",
       "ENSINO FUNDAMENTAL (1º ANO A 5º ANO) - CASA     0.112213\n",
       "PROJETO EXPLORANDO CURRÍCULO - PEC              0.102012\n",
       "EDUCACAO ESPECIAL - DF                          0.066700\n",
       "EDUCACAO INFANTIL                               0.029034\n",
       "SALA DE RECURSO ALTAS HABILIDADE                0.004708\n",
       "Name: TipoEnsino, dtype: float64"
      ]
     },
     "execution_count": 12,
     "metadata": {},
     "output_type": "execute_result"
    }
   ],
   "source": [
    "data['TipoEnsino'].value_counts(normalize=True) * 100"
   ]
  },
  {
   "cell_type": "markdown",
   "metadata": {},
   "source": [
    "### Quantidade de classe por tipo de ensido"
   ]
  },
  {
   "cell_type": "code",
   "execution_count": 13,
   "metadata": {},
   "outputs": [
    {
     "data": {
      "text/html": [
       "<div>\n",
       "<style scoped>\n",
       "    .dataframe tbody tr th:only-of-type {\n",
       "        vertical-align: middle;\n",
       "    }\n",
       "\n",
       "    .dataframe tbody tr th {\n",
       "        vertical-align: top;\n",
       "    }\n",
       "\n",
       "    .dataframe thead th {\n",
       "        text-align: right;\n",
       "    }\n",
       "</style>\n",
       "<table border=\"1\" class=\"dataframe\">\n",
       "  <thead>\n",
       "    <tr style=\"text-align: right;\">\n",
       "      <th>TipoEnsino</th>\n",
       "      <th>QTD_CLASSES_TIPO_ENSINO FUNDAMENTAL DE 9 ANOS</th>\n",
       "      <th>QTD_CLASSES_TIPO_ENSINO MEDIO</th>\n",
       "    </tr>\n",
       "    <tr>\n",
       "      <th>COD_ESC</th>\n",
       "      <th></th>\n",
       "      <th></th>\n",
       "    </tr>\n",
       "  </thead>\n",
       "  <tbody>\n",
       "    <tr>\n",
       "      <th>12</th>\n",
       "      <td>16.0</td>\n",
       "      <td>0.0</td>\n",
       "    </tr>\n",
       "    <tr>\n",
       "      <th>24</th>\n",
       "      <td>34.0</td>\n",
       "      <td>40.0</td>\n",
       "    </tr>\n",
       "    <tr>\n",
       "      <th>36</th>\n",
       "      <td>34.0</td>\n",
       "      <td>29.0</td>\n",
       "    </tr>\n",
       "    <tr>\n",
       "      <th>48</th>\n",
       "      <td>0.0</td>\n",
       "      <td>35.0</td>\n",
       "    </tr>\n",
       "    <tr>\n",
       "      <th>59</th>\n",
       "      <td>0.0</td>\n",
       "      <td>28.0</td>\n",
       "    </tr>\n",
       "  </tbody>\n",
       "</table>\n",
       "</div>"
      ],
      "text/plain": [
       "TipoEnsino  QTD_CLASSES_TIPO_ENSINO FUNDAMENTAL DE 9 ANOS  \\\n",
       "COD_ESC                                                     \n",
       "12                                                   16.0   \n",
       "24                                                   34.0   \n",
       "36                                                   34.0   \n",
       "48                                                    0.0   \n",
       "59                                                    0.0   \n",
       "\n",
       "TipoEnsino  QTD_CLASSES_TIPO_ENSINO MEDIO  \n",
       "COD_ESC                                    \n",
       "12                                    0.0  \n",
       "24                                   40.0  \n",
       "36                                   29.0  \n",
       "48                                   35.0  \n",
       "59                                   28.0  "
      ]
     },
     "execution_count": 13,
     "metadata": {},
     "output_type": "execute_result"
    }
   ],
   "source": [
    "qtd_classes_tipo = data.groupby(['COD_ESC', 'TipoEnsino']).size().unstack()[['ENSINO FUNDAMENTAL DE 9 ANOS', 'ENSINO MEDIO']]\n",
    "qtd_classes_tipo.columns = 'QTD_CLASSES_TIPO_' + qtd_classes_tipo.columns\n",
    "qtd_classes_tipo.fillna(0, inplace=True)\n",
    "qtd_classes_tipo.head()"
   ]
  },
  {
   "cell_type": "markdown",
   "metadata": {},
   "source": [
    "### Quantidade de alunos por tipo de ensino"
   ]
  },
  {
   "cell_type": "code",
   "execution_count": 14,
   "metadata": {},
   "outputs": [
    {
     "data": {
      "text/html": [
       "<div>\n",
       "<style scoped>\n",
       "    .dataframe tbody tr th:only-of-type {\n",
       "        vertical-align: middle;\n",
       "    }\n",
       "\n",
       "    .dataframe tbody tr th {\n",
       "        vertical-align: top;\n",
       "    }\n",
       "\n",
       "    .dataframe thead th {\n",
       "        text-align: right;\n",
       "    }\n",
       "</style>\n",
       "<table border=\"1\" class=\"dataframe\">\n",
       "  <thead>\n",
       "    <tr style=\"text-align: right;\">\n",
       "      <th>TipoEnsino</th>\n",
       "      <th>QTD_ALUNOS_TIPO_ENSINO FUNDAMENTAL DE 9 ANOS</th>\n",
       "      <th>QTD_ALUNOS_TIPO_ENSINO MEDIO</th>\n",
       "    </tr>\n",
       "    <tr>\n",
       "      <th>COD_ESC</th>\n",
       "      <th></th>\n",
       "      <th></th>\n",
       "    </tr>\n",
       "  </thead>\n",
       "  <tbody>\n",
       "    <tr>\n",
       "      <th>12</th>\n",
       "      <td>563.0</td>\n",
       "      <td>0.0</td>\n",
       "    </tr>\n",
       "    <tr>\n",
       "      <th>24</th>\n",
       "      <td>956.0</td>\n",
       "      <td>1229.0</td>\n",
       "    </tr>\n",
       "    <tr>\n",
       "      <th>36</th>\n",
       "      <td>1189.0</td>\n",
       "      <td>945.0</td>\n",
       "    </tr>\n",
       "    <tr>\n",
       "      <th>48</th>\n",
       "      <td>0.0</td>\n",
       "      <td>1189.0</td>\n",
       "    </tr>\n",
       "    <tr>\n",
       "      <th>59</th>\n",
       "      <td>0.0</td>\n",
       "      <td>974.0</td>\n",
       "    </tr>\n",
       "  </tbody>\n",
       "</table>\n",
       "</div>"
      ],
      "text/plain": [
       "TipoEnsino  QTD_ALUNOS_TIPO_ENSINO FUNDAMENTAL DE 9 ANOS  \\\n",
       "COD_ESC                                                    \n",
       "12                                                 563.0   \n",
       "24                                                 956.0   \n",
       "36                                                1189.0   \n",
       "48                                                   0.0   \n",
       "59                                                   0.0   \n",
       "\n",
       "TipoEnsino  QTD_ALUNOS_TIPO_ENSINO MEDIO  \n",
       "COD_ESC                                   \n",
       "12                                   0.0  \n",
       "24                                1229.0  \n",
       "36                                 945.0  \n",
       "48                                1189.0  \n",
       "59                                 974.0  "
      ]
     },
     "execution_count": 14,
     "metadata": {},
     "output_type": "execute_result"
    }
   ],
   "source": [
    "qtd_alunos_tipo = data.groupby(['COD_ESC', 'TipoEnsino'])['QTDE_ALUNOS'].sum().unstack()[['ENSINO FUNDAMENTAL DE 9 ANOS', 'ENSINO MEDIO']]\n",
    "qtd_alunos_tipo.columns = 'QTD_ALUNOS_TIPO_' + qtd_alunos_tipo.columns\n",
    "qtd_alunos_tipo.fillna(0, inplace=True)\n",
    "qtd_alunos_tipo.head()"
   ]
  },
  {
   "cell_type": "markdown",
   "metadata": {},
   "source": [
    "## Juntar características"
   ]
  },
  {
   "cell_type": "code",
   "execution_count": 15,
   "metadata": {},
   "outputs": [],
   "source": [
    "df_escolas = pd.concat([qtd_alunos_escola, qtd_classes, media_alunos_classe, qtd_classes_tipo, qtd_alunos_tipo], axis=1)"
   ]
  },
  {
   "cell_type": "code",
   "execution_count": 16,
   "metadata": {},
   "outputs": [],
   "source": [
    "df_escolas.reset_index(inplace=True)\n",
    "df_escolas.dropna(inplace=True)"
   ]
  },
  {
   "cell_type": "code",
   "execution_count": 17,
   "metadata": {},
   "outputs": [
    {
     "data": {
      "text/html": [
       "<div>\n",
       "<style scoped>\n",
       "    .dataframe tbody tr th:only-of-type {\n",
       "        vertical-align: middle;\n",
       "    }\n",
       "\n",
       "    .dataframe tbody tr th {\n",
       "        vertical-align: top;\n",
       "    }\n",
       "\n",
       "    .dataframe thead th {\n",
       "        text-align: right;\n",
       "    }\n",
       "</style>\n",
       "<table border=\"1\" class=\"dataframe\">\n",
       "  <thead>\n",
       "    <tr style=\"text-align: right;\">\n",
       "      <th></th>\n",
       "      <th>COD_ESC</th>\n",
       "      <th>QTD_TOTAL_ALUNOS</th>\n",
       "      <th>QTD_CLASSES</th>\n",
       "      <th>MEDIA_ALUNOS_SALA</th>\n",
       "      <th>QTD_CLASSES_TIPO_ENSINO FUNDAMENTAL DE 9 ANOS</th>\n",
       "      <th>QTD_CLASSES_TIPO_ENSINO MEDIO</th>\n",
       "      <th>QTD_ALUNOS_TIPO_ENSINO FUNDAMENTAL DE 9 ANOS</th>\n",
       "      <th>QTD_ALUNOS_TIPO_ENSINO MEDIO</th>\n",
       "    </tr>\n",
       "  </thead>\n",
       "  <tbody>\n",
       "    <tr>\n",
       "      <th>0</th>\n",
       "      <td>12</td>\n",
       "      <td>563</td>\n",
       "      <td>16</td>\n",
       "      <td>35.187500</td>\n",
       "      <td>16.0</td>\n",
       "      <td>0.0</td>\n",
       "      <td>563.0</td>\n",
       "      <td>0.0</td>\n",
       "    </tr>\n",
       "    <tr>\n",
       "      <th>1</th>\n",
       "      <td>24</td>\n",
       "      <td>2703</td>\n",
       "      <td>88</td>\n",
       "      <td>30.715909</td>\n",
       "      <td>34.0</td>\n",
       "      <td>40.0</td>\n",
       "      <td>956.0</td>\n",
       "      <td>1229.0</td>\n",
       "    </tr>\n",
       "    <tr>\n",
       "      <th>2</th>\n",
       "      <td>36</td>\n",
       "      <td>2164</td>\n",
       "      <td>69</td>\n",
       "      <td>31.362319</td>\n",
       "      <td>34.0</td>\n",
       "      <td>29.0</td>\n",
       "      <td>1189.0</td>\n",
       "      <td>945.0</td>\n",
       "    </tr>\n",
       "    <tr>\n",
       "      <th>3</th>\n",
       "      <td>48</td>\n",
       "      <td>1189</td>\n",
       "      <td>35</td>\n",
       "      <td>33.971429</td>\n",
       "      <td>0.0</td>\n",
       "      <td>35.0</td>\n",
       "      <td>0.0</td>\n",
       "      <td>1189.0</td>\n",
       "    </tr>\n",
       "    <tr>\n",
       "      <th>4</th>\n",
       "      <td>59</td>\n",
       "      <td>974</td>\n",
       "      <td>28</td>\n",
       "      <td>34.785714</td>\n",
       "      <td>0.0</td>\n",
       "      <td>28.0</td>\n",
       "      <td>0.0</td>\n",
       "      <td>974.0</td>\n",
       "    </tr>\n",
       "  </tbody>\n",
       "</table>\n",
       "</div>"
      ],
      "text/plain": [
       "   COD_ESC  QTD_TOTAL_ALUNOS  QTD_CLASSES  MEDIA_ALUNOS_SALA  \\\n",
       "0       12               563           16          35.187500   \n",
       "1       24              2703           88          30.715909   \n",
       "2       36              2164           69          31.362319   \n",
       "3       48              1189           35          33.971429   \n",
       "4       59               974           28          34.785714   \n",
       "\n",
       "   QTD_CLASSES_TIPO_ENSINO FUNDAMENTAL DE 9 ANOS  \\\n",
       "0                                           16.0   \n",
       "1                                           34.0   \n",
       "2                                           34.0   \n",
       "3                                            0.0   \n",
       "4                                            0.0   \n",
       "\n",
       "   QTD_CLASSES_TIPO_ENSINO MEDIO  \\\n",
       "0                            0.0   \n",
       "1                           40.0   \n",
       "2                           29.0   \n",
       "3                           35.0   \n",
       "4                           28.0   \n",
       "\n",
       "   QTD_ALUNOS_TIPO_ENSINO FUNDAMENTAL DE 9 ANOS  QTD_ALUNOS_TIPO_ENSINO MEDIO  \n",
       "0                                         563.0                           0.0  \n",
       "1                                         956.0                        1229.0  \n",
       "2                                        1189.0                         945.0  \n",
       "3                                           0.0                        1189.0  \n",
       "4                                           0.0                         974.0  "
      ]
     },
     "execution_count": 17,
     "metadata": {},
     "output_type": "execute_result"
    }
   ],
   "source": [
    "df_escolas.head()"
   ]
  },
  {
   "cell_type": "markdown",
   "metadata": {},
   "source": [
    "## Exportar dados"
   ]
  },
  {
   "cell_type": "code",
   "execution_count": 18,
   "metadata": {},
   "outputs": [],
   "source": [
    "df_escolas.to_csv('../data/processed/alunos_classes.csv', index=False)"
   ]
  }
 ],
 "metadata": {
  "kernelspec": {
   "display_name": "Python 3",
   "language": "python",
   "name": "python3"
  },
  "language_info": {
   "codemirror_mode": {
    "name": "ipython",
    "version": 3
   },
   "file_extension": ".py",
   "mimetype": "text/x-python",
   "name": "python",
   "nbconvert_exporter": "python",
   "pygments_lexer": "ipython3",
   "version": "3.7.6"
  }
 },
 "nbformat": 4,
 "nbformat_minor": 4
}
